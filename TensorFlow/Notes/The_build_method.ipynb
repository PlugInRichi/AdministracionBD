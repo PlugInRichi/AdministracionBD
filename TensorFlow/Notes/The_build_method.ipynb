{
  "cells": [
    {
      "cell_type": "markdown",
      "metadata": {
        "id": "view-in-github",
        "colab_type": "text"
      },
      "source": [
        "<a href=\"https://colab.research.google.com/github/PlugInRichi/AdministracionBD/blob/main/TensorFlow/Notes/The_build_method.ipynb\" target=\"_parent\"><img src=\"https://colab.research.google.com/assets/colab-badge.svg\" alt=\"Open In Colab\"/></a>"
      ]
    },
    {
      "cell_type": "markdown",
      "metadata": {
        "id": "Um5_9WD0k32s"
      },
      "source": [
        "# Flexible input shapes for custom layers\n",
        "In this reading you will learn how to use the build method to allow custom layers to work with flexible sized inputs."
      ]
    },
    {
      "cell_type": "code",
      "execution_count": 1,
      "metadata": {
        "id": "jN9GIx90k32v",
        "outputId": "a14c02b2-a319-41d7-8906-4af52d0a14bd",
        "colab": {
          "base_uri": "https://localhost:8080/"
        }
      },
      "outputs": [
        {
          "output_type": "stream",
          "name": "stdout",
          "text": [
            "2.9.2\n"
          ]
        }
      ],
      "source": [
        "import tensorflow as tf\n",
        "print(tf.__version__)"
      ]
    },
    {
      "cell_type": "markdown",
      "metadata": {
        "id": "8lnf9DGWk32w"
      },
      "source": [
        "## Fix the input shape in the custom layer"
      ]
    },
    {
      "cell_type": "markdown",
      "metadata": {
        "id": "qqvAWjJZk32x"
      },
      "source": [
        "Previously, you have created custom layers by initialising all variables in the `__init__` method. For instance, you defined a dense layer called `MyLayer` as follows:"
      ]
    },
    {
      "cell_type": "code",
      "execution_count": 2,
      "metadata": {
        "id": "pBZLpnBzk32x"
      },
      "outputs": [],
      "source": [
        "# Create a custom layer\n",
        "\n",
        "from tensorflow.keras.layers import Layer\n",
        "\n",
        "class MyLayer(Layer):\n",
        "\n",
        "    def __init__(self, units, input_dim, **kwargs):\n",
        "        super(MyLayer, self).__init__(**kwargs)\n",
        "        self.w = self.add_weight(shape=(input_dim, units),\n",
        "                             initializer='random_normal')\n",
        "        self.b = self.add_weight(shape=(units,),\n",
        "                             initializer='zeros')\n",
        "        \n",
        "    def call(self, inputs):\n",
        "        return tf.matmul(inputs, self.w)+self.b"
      ]
    },
    {
      "cell_type": "markdown",
      "metadata": {
        "id": "OcIp-fLUk32y"
      },
      "source": [
        "Notice that the required arguments for the `__init__` method are the number of units in the dense layer (`units`) and the input size (`input_dim`). This means that you need to fix these two arguments when you instantiate the layer."
      ]
    },
    {
      "cell_type": "code",
      "execution_count": 3,
      "metadata": {
        "id": "4CbRLNtZk32y"
      },
      "outputs": [],
      "source": [
        "#  Create a custom layer with 3 units and input dimension of 5\n",
        "\n",
        "dense_layer = MyLayer(3, 5) "
      ]
    },
    {
      "cell_type": "markdown",
      "metadata": {
        "id": "6lQ7gDzNk32y"
      },
      "source": [
        "Since the input size has been fixed to be 5, this custom layer can only take inputs of that size. For example, we can call the layer as follows:"
      ]
    },
    {
      "cell_type": "code",
      "execution_count": 4,
      "metadata": {
        "id": "EzlckOluk32z",
        "outputId": "0d20a752-30b4-4059-aa20-c6babbe6b85a",
        "colab": {
          "base_uri": "https://localhost:8080/"
        }
      },
      "outputs": [
        {
          "output_type": "stream",
          "name": "stdout",
          "text": [
            "tf.Tensor([[-0.04604203  0.11323015 -0.10489092]], shape=(1, 3), dtype=float32)\n"
          ]
        }
      ],
      "source": [
        "# Call the custom layer on a Tensor input of ones\n",
        "\n",
        "x = tf.ones((1,5))\n",
        "print(dense_layer(x))"
      ]
    },
    {
      "cell_type": "markdown",
      "metadata": {
        "id": "glUcNYHjk320"
      },
      "source": [
        "However, forcing the input shape (and therefore the shape of the weights) to be fixed when the layer is instantiated is unnecessary, and it may be more convenient to only do this later on, after the model has been defined. \n",
        "\n",
        "For example, in some cases you may not know the input shape at the model building time. We have come across this concept before when building models with the Sequential API. If the `input_shape` argument is omitted, the weights will only be created when an input is passed into the model."
      ]
    },
    {
      "cell_type": "markdown",
      "metadata": {
        "id": "n-zd3PzDk320"
      },
      "source": [
        "## Allow a flexible input shape in the custom layer"
      ]
    },
    {
      "cell_type": "markdown",
      "metadata": {
        "id": "i1fbRRD4k320"
      },
      "source": [
        "You can delay the weight creation by using the `build` method to define the weights. The `build` method is executed when the `__call__` method is called, meaning the weights are only created only the layer is called with a specific input.\n",
        "\n",
        "The `build` method has a required argument `input_shape`, which can be used to define the shapes of the layer weights."
      ]
    },
    {
      "cell_type": "code",
      "execution_count": 5,
      "metadata": {
        "id": "LYzF22M4k321"
      },
      "outputs": [],
      "source": [
        "# Rewrite the custom layer with lazy weight creation\n",
        "\n",
        "class MyLayer(Layer):\n",
        "\n",
        "    def __init__(self, units, **kwargs):\n",
        "        super(MyLayer, self).__init__(**kwargs)\n",
        "        self.units = units\n",
        "    \n",
        "    def build(self, input_shape):\n",
        "        self.w = self.add_weight(shape=(input_shape[-1], self.units),\n",
        "                                 initializer='random_normal')\n",
        "        self.b = self.add_weight(shape=(self.units,),\n",
        "                                 initializer='zeros')\n",
        "    def call(self, inputs):\n",
        "        return tf.matmul(inputs, self.w)+self.b"
      ]
    },
    {
      "cell_type": "markdown",
      "metadata": {
        "id": "IIaQJaZMk321"
      },
      "source": [
        "Now, when you instantiate the layer, you only need to specify the number of units in the dense layer (`units`), and not the input size (`input_dim`)."
      ]
    },
    {
      "cell_type": "markdown",
      "metadata": {
        "id": "ta41qqMGk321"
      },
      "source": [
        "### Create a custom layer with flexible input size"
      ]
    },
    {
      "cell_type": "code",
      "execution_count": 6,
      "metadata": {
        "id": "CH4p48Lyk322"
      },
      "outputs": [],
      "source": [
        "#  Create a custom layer with 3 units\n",
        "\n",
        "dense_layer = MyLayer(3) "
      ]
    },
    {
      "cell_type": "markdown",
      "metadata": {
        "id": "BYryxgNik322"
      },
      "source": [
        "This layer can now be called on an input of any size, at which point the layer weights will be created and the input size will be fixed."
      ]
    },
    {
      "cell_type": "code",
      "execution_count": 7,
      "metadata": {
        "id": "IH6Oui7hk322",
        "outputId": "7584dd2f-aa96-48ed-aee1-c86d8e5b7083",
        "colab": {
          "base_uri": "https://localhost:8080/"
        }
      },
      "outputs": [
        {
          "output_type": "stream",
          "name": "stdout",
          "text": [
            "tf.Tensor([[0.04930207 0.07820857 0.14968461]], shape=(1, 3), dtype=float32)\n"
          ]
        }
      ],
      "source": [
        "# Call the custom layer on a Tensor input of ones of size 5\n",
        "\n",
        "x = tf.ones((1,5))\n",
        "print(dense_layer(x))"
      ]
    },
    {
      "cell_type": "code",
      "execution_count": 8,
      "metadata": {
        "id": "BIE6qiMDk322",
        "outputId": "02d0a29c-860f-4ba6-e24b-3858f3b7e4a8",
        "colab": {
          "base_uri": "https://localhost:8080/"
        }
      },
      "outputs": [
        {
          "output_type": "execute_result",
          "data": {
            "text/plain": [
              "[<tf.Variable 'my_layer_1/Variable:0' shape=(5, 3) dtype=float32, numpy=\n",
              " array([[-0.07596313, -0.05549016,  0.02668328],\n",
              "        [ 0.01251968,  0.0793865 , -0.01578749],\n",
              "        [ 0.0234955 , -0.02402295, -0.01509751],\n",
              "        [ 0.09606931, -0.00594472,  0.02296205],\n",
              "        [-0.00681928,  0.0842799 ,  0.13092428]], dtype=float32)>,\n",
              " <tf.Variable 'my_layer_1/Variable:0' shape=(3,) dtype=float32, numpy=array([0., 0., 0.], dtype=float32)>]"
            ]
          },
          "metadata": {},
          "execution_count": 8
        }
      ],
      "source": [
        "# Print the layer weights\n",
        "\n",
        "dense_layer.weights"
      ]
    },
    {
      "cell_type": "markdown",
      "metadata": {
        "id": "EmdNA7hXk322"
      },
      "source": [
        "### Create a new custom layer and pass in a different sized input"
      ]
    },
    {
      "cell_type": "code",
      "execution_count": 9,
      "metadata": {
        "id": "cG3AqsO1k323"
      },
      "outputs": [],
      "source": [
        "#  Create a new custom layer with 3 units\n",
        "\n",
        "dense_layer = MyLayer(3) "
      ]
    },
    {
      "cell_type": "code",
      "execution_count": 10,
      "metadata": {
        "id": "ExWFuG6lk323",
        "outputId": "80231bfc-983d-40e5-9d11-6a6eafb6e70a",
        "colab": {
          "base_uri": "https://localhost:8080/"
        }
      },
      "outputs": [
        {
          "output_type": "stream",
          "name": "stdout",
          "text": [
            "tf.Tensor([[-0.01843425  0.08908687  0.00864629]], shape=(1, 3), dtype=float32)\n"
          ]
        }
      ],
      "source": [
        "# Call the custom layer on a Tensor input of ones of size 4\n",
        "\n",
        "x = tf.ones((1,4))\n",
        "print(dense_layer(x))"
      ]
    },
    {
      "cell_type": "code",
      "execution_count": 11,
      "metadata": {
        "id": "_3mRJyzik323",
        "outputId": "9b828243-94fb-471d-8cbd-620ff680921e",
        "colab": {
          "base_uri": "https://localhost:8080/"
        }
      },
      "outputs": [
        {
          "output_type": "execute_result",
          "data": {
            "text/plain": [
              "[<tf.Variable 'my_layer_2/Variable:0' shape=(4, 3) dtype=float32, numpy=\n",
              " array([[ 0.03619311,  0.06486867,  0.00103979],\n",
              "        [-0.04611673,  0.03922569, -0.07634703],\n",
              "        [ 0.05024138, -0.02988641,  0.00499417],\n",
              "        [-0.05875201,  0.01487892,  0.07895937]], dtype=float32)>,\n",
              " <tf.Variable 'my_layer_2/Variable:0' shape=(3,) dtype=float32, numpy=array([0., 0., 0.], dtype=float32)>]"
            ]
          },
          "metadata": {},
          "execution_count": 11
        }
      ],
      "source": [
        "# Print the layer weights\n",
        "\n",
        "dense_layer.weights"
      ]
    },
    {
      "cell_type": "markdown",
      "metadata": {
        "id": "ynyYPxH9k323"
      },
      "source": [
        "Note that the code for creating a custom layer object is identical, but the shape of the weights in the layer depend on the size of the input passed to the layer."
      ]
    },
    {
      "cell_type": "markdown",
      "metadata": {
        "id": "b-a3MsBkk323"
      },
      "source": [
        "## Flexible input shapes in models"
      ]
    },
    {
      "cell_type": "markdown",
      "metadata": {
        "id": "FvNvByeQk324"
      },
      "source": [
        "Deferring the weight creation until the layer is called is also useful when using the custom layer as an intermediate layer inside a larger model. In this case you may want to create several custom layer objects in the model, and it is tedious to keep track of the input shape that each of the custom layers needs. \n",
        "\n",
        "By deferring the weight creation as above, the input shape can be inferred from the output of the previous layer."
      ]
    },
    {
      "cell_type": "code",
      "execution_count": 13,
      "metadata": {
        "id": "uskmZA1Uk324"
      },
      "outputs": [],
      "source": [
        "# Create a model using the custom layer\n",
        "\n",
        "from tensorflow.keras.models import Model\n",
        "from tensorflow.keras.layers import Softmax\n",
        "\n",
        "class MyModel(Model):\n",
        "\n",
        "    def __init__(self, units_1, units_2, **kwargs):\n",
        "        super(MyModel, self).__init__(**kwargs)\n",
        "        self.layer_1 = MyLayer(units_1)\n",
        "        self.layer_2 = MyLayer(units_2)\n",
        "\n",
        "    def call(self, inputs):\n",
        "        x = self.layer_1(inputs)\n",
        "        x = tf.nn.relu(x)\n",
        "        x = self.layer_2(x)\n",
        "        return Softmax()(x)"
      ]
    },
    {
      "cell_type": "markdown",
      "metadata": {
        "id": "NYdNmfAhk324"
      },
      "source": [
        "In the above model definition, the custom layer `MyLayer` is used twice. Notice that each instance of the custom layer object can have a different input size, depending on the arguments used to create the model and the inputs passed into the model"
      ]
    },
    {
      "cell_type": "code",
      "execution_count": 14,
      "metadata": {
        "id": "-XThiV4gk324"
      },
      "outputs": [],
      "source": [
        "# Create a custom model object\n",
        "\n",
        "model = MyModel(units_1=32, units_2=10)"
      ]
    },
    {
      "cell_type": "markdown",
      "metadata": {
        "id": "IGIQ2Go1k324"
      },
      "source": [
        "We can create and initialise all of the weights of the model by passing in an example Tensor input."
      ]
    },
    {
      "cell_type": "code",
      "execution_count": 15,
      "metadata": {
        "id": "qb2QCJYnk324"
      },
      "outputs": [],
      "source": [
        "# Create and initialize all of the model weights\n",
        "\n",
        "_ = model(tf.ones((1, 100)))"
      ]
    },
    {
      "cell_type": "code",
      "execution_count": 16,
      "metadata": {
        "id": "5OAKL1HXk324",
        "outputId": "f3ceb031-0c9f-49d5-903b-3c6b387ffb85",
        "colab": {
          "base_uri": "https://localhost:8080/"
        }
      },
      "outputs": [
        {
          "output_type": "stream",
          "name": "stdout",
          "text": [
            "Model: \"my_model\"\n",
            "_________________________________________________________________\n",
            " Layer (type)                Output Shape              Param #   \n",
            "=================================================================\n",
            " my_layer_3 (MyLayer)        multiple                  3232      \n",
            "                                                                 \n",
            " my_layer_4 (MyLayer)        multiple                  330       \n",
            "                                                                 \n",
            "=================================================================\n",
            "Total params: 3,562\n",
            "Trainable params: 3,562\n",
            "Non-trainable params: 0\n",
            "_________________________________________________________________\n"
          ]
        }
      ],
      "source": [
        "# Print the model summary\n",
        "\n",
        "model.summary()"
      ]
    },
    {
      "cell_type": "markdown",
      "metadata": {
        "id": "z9RumrKOk325"
      },
      "source": [
        "## Further reading and resources \n",
        "* https://www.tensorflow.org/guide/keras/custom_layers_and_models#best_practice_deferring_weight_creation_until_the_shape_of_the_inputs_is_known"
      ]
    }
  ],
  "metadata": {
    "kernelspec": {
      "display_name": "Python 3",
      "language": "python",
      "name": "python3"
    },
    "language_info": {
      "codemirror_mode": {
        "name": "ipython",
        "version": 3
      },
      "file_extension": ".py",
      "mimetype": "text/x-python",
      "name": "python",
      "nbconvert_exporter": "python",
      "pygments_lexer": "ipython3",
      "version": "3.7.1"
    },
    "colab": {
      "provenance": [],
      "include_colab_link": true
    }
  },
  "nbformat": 4,
  "nbformat_minor": 0
}